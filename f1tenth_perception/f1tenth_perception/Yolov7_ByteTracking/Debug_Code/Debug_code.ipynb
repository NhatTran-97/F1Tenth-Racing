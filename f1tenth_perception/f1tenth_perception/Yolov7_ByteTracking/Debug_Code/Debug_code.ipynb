{
 "cells": [
  {
   "cell_type": "markdown",
   "id": "fd892744-a5cf-4d88-b4fb-9260401d9425",
   "metadata": {},
   "source": [
    "assert là một câu lệnh để kiểm tra điều kiện. Nếu điều kiện kiểm tra là False nó sẽ sinh ra một AssertionError"
   ]
  },
  {
   "cell_type": "code",
   "execution_count": 1,
   "id": "94d60dbd-0e9d-468a-94fb-ab86b61cec39",
   "metadata": {},
   "outputs": [
    {
     "ename": "AssertionError",
     "evalue": "Giá trị của x không phải là 5",
     "output_type": "error",
     "traceback": [
      "\u001b[1;31m---------------------------------------------------------------------------\u001b[0m",
      "\u001b[1;31mAssertionError\u001b[0m                            Traceback (most recent call last)",
      "Cell \u001b[1;32mIn[1], line 2\u001b[0m\n\u001b[0;32m      1\u001b[0m x \u001b[38;5;241m=\u001b[39m \u001b[38;5;241m10\u001b[39m\n\u001b[1;32m----> 2\u001b[0m \u001b[38;5;28;01massert\u001b[39;00m x \u001b[38;5;241m==\u001b[39m \u001b[38;5;241m5\u001b[39m, \u001b[38;5;124m\"\u001b[39m\u001b[38;5;124mGiá trị của x không phải là 5\u001b[39m\u001b[38;5;124m\"\u001b[39m\n",
      "\u001b[1;31mAssertionError\u001b[0m: Giá trị của x không phải là 5"
     ]
    }
   ],
   "source": [
    "x = 10\n",
    "assert x == 5, \"Giá trị của x không phải là 5\"\n"
   ]
  },
  {
   "cell_type": "code",
   "execution_count": 8,
   "id": "323105a0-457c-4236-9a21-50d3373efdb2",
   "metadata": {},
   "outputs": [
    {
     "name": "stdout",
     "output_type": "stream",
     "text": [
      "1\n",
      "True\n"
     ]
    }
   ],
   "source": [
    "import torch\n",
    "n = torch.cuda.device_count(); print(n)\n",
    "print(torch.cuda.is_available())"
   ]
  },
  {
   "cell_type": "markdown",
   "id": "b6197325-1342-4070-b543-61105cc6fe53",
   "metadata": {},
   "source": [
    "## Debug Select Device Function"
   ]
  },
  {
   "cell_type": "code",
   "execution_count": 62,
   "id": "4e64de52-9b81-4b91-bd7b-e5dc9d71c4df",
   "metadata": {},
   "outputs": [],
   "source": [
    "def select_device(device='cpu', batch_size=None):\n",
    "    cpu = device.lower() == 'cpu'\n",
    "    \n",
    "    if not cpu and not torch.cuda.is_available():\n",
    "        # thông báo lỗi nếu không có cpu và cuda, thoát chương trình mà ko chạy xuống dưới\n",
    "        raise Exception('no CUDA installation found on this machine.')\n",
    "\n",
    "    # cpu là false và có gpu \n",
    "    cuda = not cpu and torch.cuda.is_available(); #print(\"cuda\", cuda)\n",
    "\n",
    "    # có cuda\n",
    "    if cuda:\n",
    "        n = 2#torch.cuda.device_count()\n",
    "        if n == 0:\n",
    "            raise Exception('no GPU found on this machine.')\n",
    "        # Nếu trong máy tính có nhiều hơn 1 GPU\n",
    "        if n > 1 and batch_size:  # check that batch_size is compatible with device_count\n",
    "            \n",
    "            assert batch_size % n == 0, f'batch-size {batch_size} not multiple of GPU count {n}'\n",
    "            print(\"hehe\")\n",
    "\n",
    "    return torch.device('cuda:0' if cuda else 'cpu')"
   ]
  },
  {
   "cell_type": "code",
   "execution_count": 67,
   "id": "2aa7d75d-20f7-4750-980e-f9f37f0f331d",
   "metadata": {},
   "outputs": [
    {
     "name": "stdout",
     "output_type": "stream",
     "text": [
      "hehe\n"
     ]
    }
   ],
   "source": [
    "device = select_device('gpu',batch_size=2); #print('select_device: ', select_device)"
   ]
  },
  {
   "cell_type": "markdown",
   "id": "1c510de3-0c7f-42e1-a614-1dc46682d6a1",
   "metadata": {},
   "source": [
    "## Convert torch.tensor -> numpy array"
   ]
  },
  {
   "cell_type": "code",
   "execution_count": 4,
   "id": "68e75782-81ae-439b-95d6-c94adb6c5882",
   "metadata": {},
   "outputs": [
    {
     "name": "stdout",
     "output_type": "stream",
     "text": [
      "pred:  [tensor([[-6.4195e+00,  4.9254e+01,  4.9609e+02,  4.7777e+02,  4.6195e-01,\n",
      "          0.0000e+00],\n",
      "        [ 5.1893e+02,  4.2995e+02,  6.3953e+02,  4.7998e+02,  4.5636e-01,\n",
      "          6.3000e+01],\n",
      "        [ 5.2035e+02,  4.3010e+02,  6.3952e+02,  4.8006e+02,  2.8674e-01,\n",
      "          6.6000e+01]])]\n"
     ]
    }
   ],
   "source": [
    "import torch\n",
    "\n",
    "# Assuming pred2 is a list of tensors\n",
    "pred2 = [torch.tensor([[-6.4195, 49.254, 496.09, 477.77, 0.46195, 0],\n",
    "                      [518.93, 429.95, 639.53, 479.98, 0.45636, 63],\n",
    "                      [520.35, 430.1, 639.52, 480.06, 0.28674, 66]])]\n",
    "print(\"pred: \",pred2)"
   ]
  },
  {
   "cell_type": "code",
   "execution_count": 3,
   "id": "507cfdd4-a9e8-4411-9531-0a69f526bee1",
   "metadata": {},
   "outputs": [
    {
     "name": "stdout",
     "output_type": "stream",
     "text": [
      "NumPy array:  [[-6.4195e+00  4.9254e+01  4.9609e+02  4.7777e+02  4.6195e-01  0.0000e+00]\n",
      " [ 5.1893e+02  4.2995e+02  6.3953e+02  4.7998e+02  4.5636e-01  6.3000e+01]\n",
      " [ 5.2035e+02  4.3010e+02  6.3952e+02  4.8006e+02  2.8674e-01  6.6000e+01]]\n"
     ]
    }
   ],
   "source": [
    "numpy_array = pred2[0].detach().cpu().numpy()\n",
    "print(\"NumPy array: \", numpy_array)"
   ]
  },
  {
   "cell_type": "code",
   "execution_count": 5,
   "id": "2d56cd5e-20c2-4c1c-867d-c65ca1df69a3",
   "metadata": {},
   "outputs": [
    {
     "name": "stdout",
     "output_type": "stream",
     "text": [
      "545.67786\n"
     ]
    }
   ],
   "source": [
    "print(5.4567786e+02)"
   ]
  },
  {
   "cell_type": "code",
   "execution_count": 7,
   "id": "9d03b203-0da4-40bb-8457-5518d04ffa39",
   "metadata": {},
   "outputs": [
    {
     "ename": "SyntaxError",
     "evalue": "unexpected EOF while parsing (3930958382.py, line 2)",
     "output_type": "error",
     "traceback": [
      "\u001b[1;36m  Cell \u001b[1;32mIn[7], line 2\u001b[1;36m\u001b[0m\n\u001b[1;33m    print(reversed(det)\u001b[0m\n\u001b[1;37m                       ^\u001b[0m\n\u001b[1;31mSyntaxError\u001b[0m\u001b[1;31m:\u001b[0m unexpected EOF while parsing\n"
     ]
    }
   ],
   "source": [
    "det = [1,2,3,4,5,6]\n",
    "print(reversed(det)"
   ]
  }
 ],
 "metadata": {
  "kernelspec": {
   "display_name": "Python 3 (ipykernel)",
   "language": "python",
   "name": "python3"
  },
  "language_info": {
   "codemirror_mode": {
    "name": "ipython",
    "version": 3
   },
   "file_extension": ".py",
   "mimetype": "text/x-python",
   "name": "python",
   "nbconvert_exporter": "python",
   "pygments_lexer": "ipython3",
   "version": "3.9.17"
  }
 },
 "nbformat": 4,
 "nbformat_minor": 5
}
