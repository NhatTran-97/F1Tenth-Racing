{
 "cells": [
  {
   "cell_type": "markdown",
   "id": "fd892744-a5cf-4d88-b4fb-9260401d9425",
   "metadata": {},
   "source": [
    "assert là một câu lệnh để kiểm tra điều kiện. Nếu điều kiện kiểm tra là False nó sẽ sinh ra một AssertionError"
   ]
  },
  {
   "cell_type": "code",
   "execution_count": 1,
   "id": "94d60dbd-0e9d-468a-94fb-ab86b61cec39",
   "metadata": {},
   "outputs": [
    {
     "ename": "AssertionError",
     "evalue": "Giá trị của x không phải là 5",
     "output_type": "error",
     "traceback": [
      "\u001b[1;31m---------------------------------------------------------------------------\u001b[0m",
      "\u001b[1;31mAssertionError\u001b[0m                            Traceback (most recent call last)",
      "Cell \u001b[1;32mIn[1], line 2\u001b[0m\n\u001b[0;32m      1\u001b[0m x \u001b[38;5;241m=\u001b[39m \u001b[38;5;241m10\u001b[39m\n\u001b[1;32m----> 2\u001b[0m \u001b[38;5;28;01massert\u001b[39;00m x \u001b[38;5;241m==\u001b[39m \u001b[38;5;241m5\u001b[39m, \u001b[38;5;124m\"\u001b[39m\u001b[38;5;124mGiá trị của x không phải là 5\u001b[39m\u001b[38;5;124m\"\u001b[39m\n",
      "\u001b[1;31mAssertionError\u001b[0m: Giá trị của x không phải là 5"
     ]
    }
   ],
   "source": [
    "x = 10\n",
    "assert x == 5, \"Giá trị của x không phải là 5\"\n"
   ]
  },
  {
   "cell_type": "code",
   "execution_count": 8,
   "id": "323105a0-457c-4236-9a21-50d3373efdb2",
   "metadata": {},
   "outputs": [
    {
     "name": "stdout",
     "output_type": "stream",
     "text": [
      "1\n",
      "True\n"
     ]
    }
   ],
   "source": [
    "import torch\n",
    "n = torch.cuda.device_count(); print(n)\n",
    "print(torch.cuda.is_available())"
   ]
  },
  {
   "cell_type": "code",
   "execution_count": 43,
   "id": "4e64de52-9b81-4b91-bd7b-e5dc9d71c4df",
   "metadata": {},
   "outputs": [],
   "source": [
    "def select_device(device='cpu', batch_size=None):\n",
    "    cpu = device.lower() == 'cpu'\n",
    "    \n",
    "    if not cpu and not torch.cuda.is_available():\n",
    "        # thông báo lỗi nếu không có cpu và cuda, thoát chương trình mà ko chạy xuống dưới\n",
    "        raise Exception('no CUDA installation found on this machine.')\n",
    "\n",
    "    # cpu là false và có gpu \n",
    "    cuda = not cpu and torch.cuda.is_available(); #print(\"cuda\", cuda)\n",
    "\n",
    "    # có cuda\n",
    "    if cuda:\n",
    "        n = 2#torch.cuda.device_count()\n",
    "        if n == 0:\n",
    "            raise Exception('no GPU found on this machine.')\n",
    "        # Nếu trong máy tính có nhiều hơn 1 GPU\n",
    "        if n > 1 and batch_size:  # check that batch_size is compatible with device_count\n",
    "            assert batch_size % n == 0, f'batch-size {batch_size} not multiple of GPU count {n}'\n",
    "\n",
    "    return torch.device('cuda:0' if cuda else 'cpu')"
   ]
  },
  {
   "cell_type": "code",
   "execution_count": 16,
   "id": "5326e26e-dcab-4bad-b733-89aaaee0d537",
   "metadata": {},
   "outputs": [],
   "source": []
  },
  {
   "cell_type": "code",
   "execution_count": 44,
   "id": "2aa7d75d-20f7-4750-980e-f9f37f0f331d",
   "metadata": {},
   "outputs": [
    {
     "name": "stdout",
     "output_type": "stream",
     "text": [
      "select_device:  <function select_device at 0x000002C0B21B5550>\n"
     ]
    }
   ],
   "source": [
    "device = \"cpu\"\n",
    "device = select_device(device); print('select_device: ', select_device)"
   ]
  }
 ],
 "metadata": {
  "kernelspec": {
   "display_name": "Python 3 (ipykernel)",
   "language": "python",
   "name": "python3"
  },
  "language_info": {
   "codemirror_mode": {
    "name": "ipython",
    "version": 3
   },
   "file_extension": ".py",
   "mimetype": "text/x-python",
   "name": "python",
   "nbconvert_exporter": "python",
   "pygments_lexer": "ipython3",
   "version": "3.9.17"
  }
 },
 "nbformat": 4,
 "nbformat_minor": 5
}
